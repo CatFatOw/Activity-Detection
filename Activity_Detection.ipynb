{
  "nbformat": 4,
  "nbformat_minor": 0,
  "metadata": {
    "colab": {
      "provenance": [],
      "gpuType": "T4"
    },
    "kernelspec": {
      "name": "python3",
      "display_name": "Python 3"
    },
    "language_info": {
      "name": "python"
    },
    "accelerator": "GPU"
  },
  "cells": [
    {
      "cell_type": "markdown",
      "source": [
        "# This Pipeline creates an activity detection pipeline to classify videos using the UCF101 subset by Michael Wu\n",
        "\n",
        "The pipline will have these main steps:\n",
        "\n",
        "1. view the dataset (N/A for now)\n",
        "2. Load in the dataset/create dataloader\n",
        "3. Use pre-trained model for higher metrics\n",
        "4. Train the model\n",
        "5. Access performance\n",
        "\n",
        "This provides a baseline for activity detection. Segmentation is still being done"
      ],
      "metadata": {
        "id": "P4UkbcnaSmXa"
      }
    },
    {
      "cell_type": "code",
      "source": [
        "# Load in the data\n",
        "import kagglehub\n",
        "\n",
        "# Download latest version\n",
        "path = kagglehub.dataset_download(\"aisuko/ucf101-subset\")\n",
        "\n",
        "print(\"Path to dataset files:\", path)"
      ],
      "metadata": {
        "colab": {
          "base_uri": "https://localhost:8080/"
        },
        "id": "yNU6iSIpS-_Q",
        "outputId": "18bfff61-8640-40b7-f8a4-394996aa92a7"
      },
      "execution_count": null,
      "outputs": [
        {
          "output_type": "stream",
          "name": "stdout",
          "text": [
            "Downloading from https://www.kaggle.com/api/v1/datasets/download/aisuko/ucf101-subset?dataset_version_number=1...\n"
          ]
        },
        {
          "output_type": "stream",
          "name": "stderr",
          "text": [
            "100%|██████████| 157M/157M [00:00<00:00, 179MB/s]"
          ]
        },
        {
          "output_type": "stream",
          "name": "stdout",
          "text": [
            "Extracting files...\n"
          ]
        },
        {
          "output_type": "stream",
          "name": "stderr",
          "text": [
            "\n"
          ]
        },
        {
          "output_type": "stream",
          "name": "stdout",
          "text": [
            "Path to dataset files: /root/.cache/kagglehub/datasets/aisuko/ucf101-subset/versions/1\n"
          ]
        }
      ]
    },
    {
      "cell_type": "code",
      "source": [
        "cp -r /root/.cache/kagglehub/datasets/aisuko/ucf101-subset/versions/1 /content/dataset/"
      ],
      "metadata": {
        "id": "FhbefbwXTAP1"
      },
      "execution_count": null,
      "outputs": []
    },
    {
      "cell_type": "code",
      "source": [
        "!pip install -U av\n",
        "import os\n",
        "os.kill(os.getpid(), 9)\n"
      ],
      "metadata": {
        "colab": {
          "base_uri": "https://localhost:8080/"
        },
        "id": "i9bGN-j4ZJ88",
        "outputId": "8ade9e69-2743-4872-8310-4f4b0a8143d4"
      },
      "execution_count": null,
      "outputs": [
        {
          "output_type": "stream",
          "name": "stdout",
          "text": [
            "Requirement already satisfied: av in /usr/local/lib/python3.11/dist-packages (14.4.0)\n"
          ]
        }
      ]
    },
    {
      "cell_type": "code",
      "source": [
        "import torch\n",
        "import torch.nn as nn\n",
        "from torch.utils.data import Dataset, DataLoader\n",
        "from torchvision import transforms\n",
        "from torchvision.io import read_video\n",
        "import matplotlib.pyplot as plt\n",
        "from tqdm import tqdm\n",
        "import os\n",
        "import numpy as np\n",
        "import pandas as pd"
      ],
      "metadata": {
        "id": "QE8Ul4HeTRL_"
      },
      "execution_count": 1,
      "outputs": []
    },
    {
      "cell_type": "markdown",
      "source": [
        "# Create custom Pandas DF"
      ],
      "metadata": {
        "id": "EEWft6gsnr9F"
      }
    },
    {
      "cell_type": "code",
      "source": [
        "import os\n",
        "\n",
        "def create_df(dir_path):\n",
        "    vid_path = []\n",
        "    label = []\n",
        "\n",
        "    class_names = os.listdir(dir_path)\n",
        "    for class_name in class_names:\n",
        "        class_path = os.path.join(dir_path, class_name)\n",
        "        if not os.path.isdir(class_path):\n",
        "            continue  # skip non-directory files\n",
        "        for video in os.listdir(class_path):\n",
        "            video_path = os.path.join(class_path, video)\n",
        "            vid_path.append(video_path)\n",
        "            label.append(class_name)\n",
        "\n",
        "    return vid_path, label\n",
        "\n",
        "train_imgs, train_labels = create_df(\"/content/dataset/UCF101_subset/train\")\n",
        "val_imgs, val_labels = create_df(\"/content/dataset/UCF101_subset/val\")\n",
        "test_imgs, test_labels = create_df(\"/content/dataset/UCF101_subset/test\")"
      ],
      "metadata": {
        "id": "CXtnSkWaUmKk"
      },
      "execution_count": 2,
      "outputs": []
    },
    {
      "cell_type": "code",
      "source": [
        "# Create custom dataframes\n",
        "train_df = pd.DataFrame({\"path\": train_imgs, \"label\": train_labels})\n",
        "val_df = pd.DataFrame({\"path\": val_imgs, \"label\": val_labels})\n",
        "test_df = pd.DataFrame({\"path\": test_imgs, \"label\": test_labels})\n",
        "test_df.head()\n"
      ],
      "metadata": {
        "colab": {
          "base_uri": "https://localhost:8080/",
          "height": 206
        },
        "id": "GhSHY7fbV7Z5",
        "outputId": "68eb1676-90df-4453-bf89-19dd92b89235"
      },
      "execution_count": 3,
      "outputs": [
        {
          "output_type": "execute_result",
          "data": {
            "text/plain": [
              "                                                path         label\n",
              "0  /content/dataset/UCF101_subset/test/BabyCrawli...  BabyCrawling\n",
              "1  /content/dataset/UCF101_subset/test/BabyCrawli...  BabyCrawling\n",
              "2  /content/dataset/UCF101_subset/test/BabyCrawli...  BabyCrawling\n",
              "3  /content/dataset/UCF101_subset/test/BabyCrawli...  BabyCrawling\n",
              "4  /content/dataset/UCF101_subset/test/BabyCrawli...  BabyCrawling"
            ],
            "text/html": [
              "\n",
              "  <div id=\"df-846e3c69-88d7-4311-a95e-4db346758e00\" class=\"colab-df-container\">\n",
              "    <div>\n",
              "<style scoped>\n",
              "    .dataframe tbody tr th:only-of-type {\n",
              "        vertical-align: middle;\n",
              "    }\n",
              "\n",
              "    .dataframe tbody tr th {\n",
              "        vertical-align: top;\n",
              "    }\n",
              "\n",
              "    .dataframe thead th {\n",
              "        text-align: right;\n",
              "    }\n",
              "</style>\n",
              "<table border=\"1\" class=\"dataframe\">\n",
              "  <thead>\n",
              "    <tr style=\"text-align: right;\">\n",
              "      <th></th>\n",
              "      <th>path</th>\n",
              "      <th>label</th>\n",
              "    </tr>\n",
              "  </thead>\n",
              "  <tbody>\n",
              "    <tr>\n",
              "      <th>0</th>\n",
              "      <td>/content/dataset/UCF101_subset/test/BabyCrawli...</td>\n",
              "      <td>BabyCrawling</td>\n",
              "    </tr>\n",
              "    <tr>\n",
              "      <th>1</th>\n",
              "      <td>/content/dataset/UCF101_subset/test/BabyCrawli...</td>\n",
              "      <td>BabyCrawling</td>\n",
              "    </tr>\n",
              "    <tr>\n",
              "      <th>2</th>\n",
              "      <td>/content/dataset/UCF101_subset/test/BabyCrawli...</td>\n",
              "      <td>BabyCrawling</td>\n",
              "    </tr>\n",
              "    <tr>\n",
              "      <th>3</th>\n",
              "      <td>/content/dataset/UCF101_subset/test/BabyCrawli...</td>\n",
              "      <td>BabyCrawling</td>\n",
              "    </tr>\n",
              "    <tr>\n",
              "      <th>4</th>\n",
              "      <td>/content/dataset/UCF101_subset/test/BabyCrawli...</td>\n",
              "      <td>BabyCrawling</td>\n",
              "    </tr>\n",
              "  </tbody>\n",
              "</table>\n",
              "</div>\n",
              "    <div class=\"colab-df-buttons\">\n",
              "\n",
              "  <div class=\"colab-df-container\">\n",
              "    <button class=\"colab-df-convert\" onclick=\"convertToInteractive('df-846e3c69-88d7-4311-a95e-4db346758e00')\"\n",
              "            title=\"Convert this dataframe to an interactive table.\"\n",
              "            style=\"display:none;\">\n",
              "\n",
              "  <svg xmlns=\"http://www.w3.org/2000/svg\" height=\"24px\" viewBox=\"0 -960 960 960\">\n",
              "    <path d=\"M120-120v-720h720v720H120Zm60-500h600v-160H180v160Zm220 220h160v-160H400v160Zm0 220h160v-160H400v160ZM180-400h160v-160H180v160Zm440 0h160v-160H620v160ZM180-180h160v-160H180v160Zm440 0h160v-160H620v160Z\"/>\n",
              "  </svg>\n",
              "    </button>\n",
              "\n",
              "  <style>\n",
              "    .colab-df-container {\n",
              "      display:flex;\n",
              "      gap: 12px;\n",
              "    }\n",
              "\n",
              "    .colab-df-convert {\n",
              "      background-color: #E8F0FE;\n",
              "      border: none;\n",
              "      border-radius: 50%;\n",
              "      cursor: pointer;\n",
              "      display: none;\n",
              "      fill: #1967D2;\n",
              "      height: 32px;\n",
              "      padding: 0 0 0 0;\n",
              "      width: 32px;\n",
              "    }\n",
              "\n",
              "    .colab-df-convert:hover {\n",
              "      background-color: #E2EBFA;\n",
              "      box-shadow: 0px 1px 2px rgba(60, 64, 67, 0.3), 0px 1px 3px 1px rgba(60, 64, 67, 0.15);\n",
              "      fill: #174EA6;\n",
              "    }\n",
              "\n",
              "    .colab-df-buttons div {\n",
              "      margin-bottom: 4px;\n",
              "    }\n",
              "\n",
              "    [theme=dark] .colab-df-convert {\n",
              "      background-color: #3B4455;\n",
              "      fill: #D2E3FC;\n",
              "    }\n",
              "\n",
              "    [theme=dark] .colab-df-convert:hover {\n",
              "      background-color: #434B5C;\n",
              "      box-shadow: 0px 1px 3px 1px rgba(0, 0, 0, 0.15);\n",
              "      filter: drop-shadow(0px 1px 2px rgba(0, 0, 0, 0.3));\n",
              "      fill: #FFFFFF;\n",
              "    }\n",
              "  </style>\n",
              "\n",
              "    <script>\n",
              "      const buttonEl =\n",
              "        document.querySelector('#df-846e3c69-88d7-4311-a95e-4db346758e00 button.colab-df-convert');\n",
              "      buttonEl.style.display =\n",
              "        google.colab.kernel.accessAllowed ? 'block' : 'none';\n",
              "\n",
              "      async function convertToInteractive(key) {\n",
              "        const element = document.querySelector('#df-846e3c69-88d7-4311-a95e-4db346758e00');\n",
              "        const dataTable =\n",
              "          await google.colab.kernel.invokeFunction('convertToInteractive',\n",
              "                                                    [key], {});\n",
              "        if (!dataTable) return;\n",
              "\n",
              "        const docLinkHtml = 'Like what you see? Visit the ' +\n",
              "          '<a target=\"_blank\" href=https://colab.research.google.com/notebooks/data_table.ipynb>data table notebook</a>'\n",
              "          + ' to learn more about interactive tables.';\n",
              "        element.innerHTML = '';\n",
              "        dataTable['output_type'] = 'display_data';\n",
              "        await google.colab.output.renderOutput(dataTable, element);\n",
              "        const docLink = document.createElement('div');\n",
              "        docLink.innerHTML = docLinkHtml;\n",
              "        element.appendChild(docLink);\n",
              "      }\n",
              "    </script>\n",
              "  </div>\n",
              "\n",
              "\n",
              "    <div id=\"df-c041a8fa-a2b4-44c9-96c6-939af885363f\">\n",
              "      <button class=\"colab-df-quickchart\" onclick=\"quickchart('df-c041a8fa-a2b4-44c9-96c6-939af885363f')\"\n",
              "                title=\"Suggest charts\"\n",
              "                style=\"display:none;\">\n",
              "\n",
              "<svg xmlns=\"http://www.w3.org/2000/svg\" height=\"24px\"viewBox=\"0 0 24 24\"\n",
              "     width=\"24px\">\n",
              "    <g>\n",
              "        <path d=\"M19 3H5c-1.1 0-2 .9-2 2v14c0 1.1.9 2 2 2h14c1.1 0 2-.9 2-2V5c0-1.1-.9-2-2-2zM9 17H7v-7h2v7zm4 0h-2V7h2v10zm4 0h-2v-4h2v4z\"/>\n",
              "    </g>\n",
              "</svg>\n",
              "      </button>\n",
              "\n",
              "<style>\n",
              "  .colab-df-quickchart {\n",
              "      --bg-color: #E8F0FE;\n",
              "      --fill-color: #1967D2;\n",
              "      --hover-bg-color: #E2EBFA;\n",
              "      --hover-fill-color: #174EA6;\n",
              "      --disabled-fill-color: #AAA;\n",
              "      --disabled-bg-color: #DDD;\n",
              "  }\n",
              "\n",
              "  [theme=dark] .colab-df-quickchart {\n",
              "      --bg-color: #3B4455;\n",
              "      --fill-color: #D2E3FC;\n",
              "      --hover-bg-color: #434B5C;\n",
              "      --hover-fill-color: #FFFFFF;\n",
              "      --disabled-bg-color: #3B4455;\n",
              "      --disabled-fill-color: #666;\n",
              "  }\n",
              "\n",
              "  .colab-df-quickchart {\n",
              "    background-color: var(--bg-color);\n",
              "    border: none;\n",
              "    border-radius: 50%;\n",
              "    cursor: pointer;\n",
              "    display: none;\n",
              "    fill: var(--fill-color);\n",
              "    height: 32px;\n",
              "    padding: 0;\n",
              "    width: 32px;\n",
              "  }\n",
              "\n",
              "  .colab-df-quickchart:hover {\n",
              "    background-color: var(--hover-bg-color);\n",
              "    box-shadow: 0 1px 2px rgba(60, 64, 67, 0.3), 0 1px 3px 1px rgba(60, 64, 67, 0.15);\n",
              "    fill: var(--button-hover-fill-color);\n",
              "  }\n",
              "\n",
              "  .colab-df-quickchart-complete:disabled,\n",
              "  .colab-df-quickchart-complete:disabled:hover {\n",
              "    background-color: var(--disabled-bg-color);\n",
              "    fill: var(--disabled-fill-color);\n",
              "    box-shadow: none;\n",
              "  }\n",
              "\n",
              "  .colab-df-spinner {\n",
              "    border: 2px solid var(--fill-color);\n",
              "    border-color: transparent;\n",
              "    border-bottom-color: var(--fill-color);\n",
              "    animation:\n",
              "      spin 1s steps(1) infinite;\n",
              "  }\n",
              "\n",
              "  @keyframes spin {\n",
              "    0% {\n",
              "      border-color: transparent;\n",
              "      border-bottom-color: var(--fill-color);\n",
              "      border-left-color: var(--fill-color);\n",
              "    }\n",
              "    20% {\n",
              "      border-color: transparent;\n",
              "      border-left-color: var(--fill-color);\n",
              "      border-top-color: var(--fill-color);\n",
              "    }\n",
              "    30% {\n",
              "      border-color: transparent;\n",
              "      border-left-color: var(--fill-color);\n",
              "      border-top-color: var(--fill-color);\n",
              "      border-right-color: var(--fill-color);\n",
              "    }\n",
              "    40% {\n",
              "      border-color: transparent;\n",
              "      border-right-color: var(--fill-color);\n",
              "      border-top-color: var(--fill-color);\n",
              "    }\n",
              "    60% {\n",
              "      border-color: transparent;\n",
              "      border-right-color: var(--fill-color);\n",
              "    }\n",
              "    80% {\n",
              "      border-color: transparent;\n",
              "      border-right-color: var(--fill-color);\n",
              "      border-bottom-color: var(--fill-color);\n",
              "    }\n",
              "    90% {\n",
              "      border-color: transparent;\n",
              "      border-bottom-color: var(--fill-color);\n",
              "    }\n",
              "  }\n",
              "</style>\n",
              "\n",
              "      <script>\n",
              "        async function quickchart(key) {\n",
              "          const quickchartButtonEl =\n",
              "            document.querySelector('#' + key + ' button');\n",
              "          quickchartButtonEl.disabled = true;  // To prevent multiple clicks.\n",
              "          quickchartButtonEl.classList.add('colab-df-spinner');\n",
              "          try {\n",
              "            const charts = await google.colab.kernel.invokeFunction(\n",
              "                'suggestCharts', [key], {});\n",
              "          } catch (error) {\n",
              "            console.error('Error during call to suggestCharts:', error);\n",
              "          }\n",
              "          quickchartButtonEl.classList.remove('colab-df-spinner');\n",
              "          quickchartButtonEl.classList.add('colab-df-quickchart-complete');\n",
              "        }\n",
              "        (() => {\n",
              "          let quickchartButtonEl =\n",
              "            document.querySelector('#df-c041a8fa-a2b4-44c9-96c6-939af885363f button');\n",
              "          quickchartButtonEl.style.display =\n",
              "            google.colab.kernel.accessAllowed ? 'block' : 'none';\n",
              "        })();\n",
              "      </script>\n",
              "    </div>\n",
              "\n",
              "    </div>\n",
              "  </div>\n"
            ],
            "application/vnd.google.colaboratory.intrinsic+json": {
              "type": "dataframe",
              "variable_name": "test_df",
              "summary": "{\n  \"name\": \"test_df\",\n  \"rows\": 75,\n  \"fields\": [\n    {\n      \"column\": \"path\",\n      \"properties\": {\n        \"dtype\": \"string\",\n        \"num_unique_values\": 75,\n        \"samples\": [\n          \"/content/dataset/UCF101_subset/test/BabyCrawling/v_BabyCrawling_g22_c06.avi\",\n          \"/content/dataset/UCF101_subset/test/BasketballDunk/v_BasketballDunk_g12_c05.avi\",\n          \"/content/dataset/UCF101_subset/test/ApplyEyeMakeup/v_ApplyEyeMakeup_g23_c04.avi\"\n        ],\n        \"semantic_type\": \"\",\n        \"description\": \"\"\n      }\n    },\n    {\n      \"column\": \"label\",\n      \"properties\": {\n        \"dtype\": \"category\",\n        \"num_unique_values\": 10,\n        \"samples\": [\n          \"BasketballDunk\",\n          \"ApplyEyeMakeup\",\n          \"BaseballPitch\"\n        ],\n        \"semantic_type\": \"\",\n        \"description\": \"\"\n      }\n    }\n  ]\n}"
            }
          },
          "metadata": {},
          "execution_count": 3
        }
      ]
    },
    {
      "cell_type": "markdown",
      "source": [
        "# Create Custom Video Dataset"
      ],
      "metadata": {
        "id": "m9ESTqoYnu5Z"
      }
    },
    {
      "cell_type": "code",
      "source": [
        "# Create a custom video dataset\n",
        "from sklearn.preprocessing import LabelEncoder\n",
        "label_encoder = LabelEncoder()\n",
        "class ActivityVideoDataset(Dataset):\n",
        "  def __init__(self, dataframe, transform=None):\n",
        "    self.dataframe = dataframe\n",
        "    self.transform = transform\n",
        "    self.label_encoder = label_encoder\n",
        "\n",
        "    self.labels = torch.tensor(self.label_encoder.fit_transform(self.dataframe[\"label\"])).long()\n",
        "\n",
        "  def __len__(self):\n",
        "    return self.dataframe.shape[0]\n",
        "\n",
        "\n",
        "  def __getitem__(self, idx):\n",
        "    path = self.dataframe[\"path\"][idx]\n",
        "    label = self.labels[idx]\n",
        "    video, _, _ = read_video(path, pts_unit=\"sec\")\n",
        "    video = video.permute(0, 3, 1, 2)  # (T, C, H, W)\n",
        "\n",
        "\n",
        "    # Sample n frames\n",
        "    frame_num = 8\n",
        "    frames = video[::max(1, len(video)//frame_num)][:frame_num]\n",
        "    if self.transform:\n",
        "        frames = torch.stack([self.transform(f) for f in frames])  # Each f is (C, H, W)\n",
        "\n",
        "    frames = frames.permute(1, 0, 2, 3)  # (T, C, H, W) -> (C, T, H, W)\n",
        "\n",
        "\n",
        "    return frames, label\n",
        "\n",
        "\n"
      ],
      "metadata": {
        "id": "Gcif2pUCUXcW"
      },
      "execution_count": 4,
      "outputs": []
    },
    {
      "cell_type": "code",
      "source": [
        "from torchvision import transforms\n",
        "\n",
        "train_transform = transforms.Compose([\n",
        "    transforms.Resize((128, 128)),\n",
        "    transforms.RandomHorizontalFlip(),\n",
        "    transforms.ColorJitter(brightness=0.2, contrast=0.2, saturation=0.2, hue=0.1),\n",
        "    transforms.ConvertImageDtype(torch.float32),\n",
        "    transforms.Normalize(mean=[0.485, 0.456, 0.406],\n",
        "                         std=[0.229, 0.224, 0.225]),\n",
        "])\n",
        "\n",
        "transform =  transforms.Compose([\n",
        "    transforms.Resize((128, 128)),\n",
        "    #transforms.RandomHorizontalFlip(),\n",
        "    #transforms.ColorJitter(brightness=0.2, contrast=0.2, saturation=0.2, hue=0.1),\n",
        "    transforms.ConvertImageDtype(torch.float32),\n",
        "    transforms.Normalize(mean=[0.485, 0.456, 0.406],\n",
        "                         std=[0.229, 0.224, 0.225]),\n",
        "])\n",
        "\n",
        "\n",
        "\n",
        "train_dataset = ActivityVideoDataset(train_df, train_transform)\n",
        "val_dataset = ActivityVideoDataset(val_df, transform)\n",
        "test_dataset = ActivityVideoDataset(test_df, transform)"
      ],
      "metadata": {
        "id": "oheI9VXYUYec"
      },
      "execution_count": 5,
      "outputs": []
    },
    {
      "cell_type": "markdown",
      "source": [
        "# Dataloader"
      ],
      "metadata": {
        "id": "Ee6UrldpYAvl"
      }
    },
    {
      "cell_type": "code",
      "source": [
        "train_loader = DataLoader(train_dataset, batch_size=32, shuffle=True)\n",
        "val_loader = DataLoader(val_dataset, batch_size=32, shuffle=False)\n",
        "test_loader = DataLoader(test_dataset, batch_size=32, shuffle=True)\n",
        "\n",
        "imgs, label = next(iter(train_loader))\n",
        "print(imgs.shape, label.shape)"
      ],
      "metadata": {
        "colab": {
          "base_uri": "https://localhost:8080/"
        },
        "id": "fPrctB92YCi4",
        "outputId": "7f6d0879-f320-45e2-b954-0178e6ac1298"
      },
      "execution_count": 6,
      "outputs": [
        {
          "output_type": "stream",
          "name": "stdout",
          "text": [
            "torch.Size([32, 3, 8, 128, 128]) torch.Size([32])\n"
          ]
        }
      ]
    },
    {
      "cell_type": "markdown",
      "source": [
        "# Custom MODEL!"
      ],
      "metadata": {
        "id": "uC3CUfChZjEf"
      }
    },
    {
      "cell_type": "code",
      "source": [
        "import torchvision.models.video as models\n",
        "from torchinfo import summary\n",
        "\n",
        "import torch.nn as nn\n",
        "\n",
        "class ModifiedR2Plus1D(nn.Module):\n",
        "    def __init__(self, base_model, num_classes, dropout_p=0.5):\n",
        "        super().__init__()\n",
        "        self.features = nn.Sequential(*list(base_model.children())[:-1])  # All layers except last FC\n",
        "        self.dropout = nn.Dropout(dropout_p)\n",
        "        self.fc = nn.Linear(base_model.fc.in_features, num_classes)\n",
        "\n",
        "    def forward(self, x):\n",
        "        x = self.features(x)   # (batch, feat_dim, 1, 1, 1)\n",
        "        x = x.flatten(1)       # Flatten to (batch, feat_dim)\n",
        "        x = self.dropout(x)\n",
        "        x = self.fc(x)\n",
        "        return x\n",
        "\n",
        "model = models.r2plus1d_18(pretrained=True)\n",
        "model = ModifiedR2Plus1D(model, len(train_df[\"label\"].unique()))\n",
        "\n",
        "summary(model, input_size=(32, 3, 8, 128, 128))"
      ],
      "metadata": {
        "id": "NJCpqKJWYtai",
        "colab": {
          "base_uri": "https://localhost:8080/"
        },
        "outputId": "d7ff7bf8-ca6f-4612-922c-f36baccae229"
      },
      "execution_count": 31,
      "outputs": [
        {
          "output_type": "execute_result",
          "data": {
            "text/plain": [
              "====================================================================================================\n",
              "Layer (type:depth-idx)                             Output Shape              Param #\n",
              "====================================================================================================\n",
              "ModifiedR2Plus1D                                   [32, 10]                  --\n",
              "├─Sequential: 1-1                                  [32, 512, 1, 1, 1]        --\n",
              "│    └─R2Plus1dStem: 2-1                           [32, 64, 8, 64, 64]       --\n",
              "│    │    └─Conv3d: 3-1                            [32, 45, 8, 64, 64]       6,615\n",
              "│    │    └─BatchNorm3d: 3-2                       [32, 45, 8, 64, 64]       90\n",
              "│    │    └─ReLU: 3-3                              [32, 45, 8, 64, 64]       --\n",
              "│    │    └─Conv3d: 3-4                            [32, 64, 8, 64, 64]       8,640\n",
              "│    │    └─BatchNorm3d: 3-5                       [32, 64, 8, 64, 64]       128\n",
              "│    │    └─ReLU: 3-6                              [32, 64, 8, 64, 64]       --\n",
              "│    └─Sequential: 2-2                             [32, 64, 8, 64, 64]       --\n",
              "│    │    └─BasicBlock: 3-7                        [32, 64, 8, 64, 64]       222,016\n",
              "│    │    └─BasicBlock: 3-8                        [32, 64, 8, 64, 64]       222,016\n",
              "│    └─Sequential: 2-3                             [32, 128, 4, 32, 32]      --\n",
              "│    │    └─BasicBlock: 3-9                        [32, 128, 4, 32, 32]      583,960\n",
              "│    │    └─BasicBlock: 3-10                       [32, 128, 4, 32, 32]      886,400\n",
              "│    └─Sequential: 2-4                             [32, 256, 2, 16, 16]      --\n",
              "│    │    └─BasicBlock: 3-11                       [32, 256, 2, 16, 16]      2,332,464\n",
              "│    │    └─BasicBlock: 3-12                       [32, 256, 2, 16, 16]      3,542,272\n",
              "│    └─Sequential: 2-5                             [32, 512, 1, 8, 8]        --\n",
              "│    │    └─BasicBlock: 3-13                       [32, 512, 1, 8, 8]        9,333,092\n",
              "│    │    └─BasicBlock: 3-14                       [32, 512, 1, 8, 8]        14,162,432\n",
              "│    └─AdaptiveAvgPool3d: 2-6                      [32, 512, 1, 1, 1]        --\n",
              "├─Dropout: 1-2                                     [32, 512]                 --\n",
              "├─Linear: 1-3                                      [32, 10]                  5,130\n",
              "====================================================================================================\n",
              "Total params: 31,305,255\n",
              "Trainable params: 31,305,255\n",
              "Non-trainable params: 0\n",
              "Total mult-adds (Units.GIGABYTES): 846.76\n",
              "====================================================================================================\n",
              "Input size (MB): 50.33\n",
              "Forward/backward pass size (MB): 21033.75\n",
              "Params size (MB): 125.22\n",
              "Estimated Total Size (MB): 21209.30\n",
              "===================================================================================================="
            ]
          },
          "metadata": {},
          "execution_count": 31
        }
      ]
    },
    {
      "cell_type": "markdown",
      "source": [
        "# Train the model :)"
      ],
      "metadata": {
        "id": "8mzv4iEibEJH"
      }
    },
    {
      "cell_type": "code",
      "source": [
        "\n",
        "\n",
        "optimizer = torch.optim.Adam(model.parameters(), lr=1e-4, weight_decay=1e-5)\n",
        "\n",
        "loss_fn = nn.CrossEntropyLoss()\n",
        "\n",
        "def training_loop(n_epochs, model, optimizer, loss_fn, train_loader, val_loader, patience=8):\n",
        "    train_loss_graph = []\n",
        "    train_acc_graph = []\n",
        "    val_loss_graph = []\n",
        "    val_acc_graph = []\n",
        "\n",
        "    best_val_loss = float('inf')\n",
        "    trigger_times = 0\n",
        "\n",
        "    for epoch in range(1, n_epochs + 1):\n",
        "        model.train()\n",
        "        total_train_loss = 0.0\n",
        "        total_train_acc = 0.0\n",
        "\n",
        "        for img, label in tqdm(train_loader, desc=f\"EPOCH: {epoch} | TRAINING\", total=len(train_loader)):\n",
        "            img, label = img.to(device), label.to(device)\n",
        "\n",
        "            prediction = model(img)\n",
        "            train_loss = loss_fn(prediction, label)\n",
        "            total_train_loss += train_loss.item()\n",
        "\n",
        "            preds = torch.argmax(prediction, axis=1)\n",
        "            acc = (preds == label).float().mean().item()\n",
        "            total_train_acc += acc\n",
        "\n",
        "            optimizer.zero_grad()\n",
        "            train_loss.backward()\n",
        "            optimizer.step()\n",
        "\n",
        "        avg_train_loss = total_train_loss / len(train_loader)\n",
        "        avg_train_acc = total_train_acc / len(train_loader)\n",
        "        train_loss_graph.append(avg_train_loss)\n",
        "        train_acc_graph.append(avg_train_acc)\n",
        "\n",
        "        model.eval()\n",
        "        total_val_loss = 0.0\n",
        "        total_val_acc = 0.0\n",
        "\n",
        "        with torch.no_grad():\n",
        "            for img, label in val_loader:\n",
        "                img, label = img.to(device), label.to(device)\n",
        "                val_prediction = model(img)\n",
        "                val_loss = loss_fn(val_prediction, label)\n",
        "                total_val_loss += val_loss.item()\n",
        "\n",
        "                val_preds = torch.argmax(val_prediction, axis=1)\n",
        "                val_acc = (val_preds == label).float().mean().item()\n",
        "                total_val_acc += val_acc\n",
        "\n",
        "        avg_val_loss = total_val_loss / len(val_loader)\n",
        "        avg_val_acc = total_val_acc / len(val_loader)\n",
        "        val_loss_graph.append(avg_val_loss)\n",
        "        val_acc_graph.append(avg_val_acc)\n",
        "\n",
        "        print(f\"EPOCH {epoch} | TRAIN LOSS: {avg_train_loss:.4f} | TRAIN ACC: {avg_train_acc:.4f} | VAL LOSS: {avg_val_loss:.4f} | VAL ACC: {avg_val_acc:.4f}\")\n",
        "\n",
        "        # Early stopping check\n",
        "        if avg_val_loss < best_val_loss:\n",
        "            best_val_loss = avg_val_loss\n",
        "            trigger_times = 0\n",
        "        else:\n",
        "            trigger_times += 1\n",
        "            print(f\" No improvement for {trigger_times} epoch(s).\")\n",
        "\n",
        "        if trigger_times >= patience:\n",
        "            print(f\" Early stopping triggered after {epoch} epochs.\")\n",
        "            break\n",
        "\n",
        "    return train_loss_graph, train_acc_graph, val_loss_graph, val_acc_graph\n"
      ],
      "metadata": {
        "id": "BG80bORQZz7-"
      },
      "execution_count": 8,
      "outputs": []
    },
    {
      "cell_type": "code",
      "source": [
        "device = \"cuda\" if torch.cuda.is_available() else \"cpu\"\n",
        "device"
      ],
      "metadata": {
        "colab": {
          "base_uri": "https://localhost:8080/",
          "height": 35
        },
        "id": "LVQgSzptbdXJ",
        "outputId": "6dec9bf7-4463-4ead-d332-9177136624a8"
      },
      "execution_count": 9,
      "outputs": [
        {
          "output_type": "execute_result",
          "data": {
            "text/plain": [
              "'cuda'"
            ],
            "application/vnd.google.colaboratory.intrinsic+json": {
              "type": "string"
            }
          },
          "metadata": {},
          "execution_count": 9
        }
      ]
    },
    {
      "cell_type": "code",
      "source": [
        "train_loss, train_acc, val_loss, val_acc = training_loop(4, model=model.to(device), optimizer=optimizer, loss_fn=loss_fn, train_loader=train_loader, val_loader=val_loader)"
      ],
      "metadata": {
        "colab": {
          "base_uri": "https://localhost:8080/"
        },
        "id": "0bhiX-CZbCbM",
        "outputId": "7a78c0c5-a040-469d-d37e-5fda017567b2"
      },
      "execution_count": 11,
      "outputs": [
        {
          "output_type": "stream",
          "name": "stderr",
          "text": [
            "EPOCH: 1 | TRAINING: 100%|██████████| 10/10 [00:48<00:00,  4.81s/it]\n"
          ]
        },
        {
          "output_type": "stream",
          "name": "stdout",
          "text": [
            "EPOCH 1 | TRAIN LOSS: 0.4222 | TRAIN ACC: 0.9875 | VAL LOSS: 0.2556 | VAL ACC: 0.9667\n"
          ]
        },
        {
          "output_type": "stream",
          "name": "stderr",
          "text": [
            "EPOCH: 2 | TRAINING: 100%|██████████| 10/10 [00:48<00:00,  4.83s/it]\n"
          ]
        },
        {
          "output_type": "stream",
          "name": "stdout",
          "text": [
            "EPOCH 2 | TRAIN LOSS: 0.2477 | TRAIN ACC: 0.9938 | VAL LOSS: 0.1846 | VAL ACC: 0.9667\n"
          ]
        },
        {
          "output_type": "stream",
          "name": "stderr",
          "text": [
            "EPOCH: 3 | TRAINING: 100%|██████████| 10/10 [00:48<00:00,  4.88s/it]\n"
          ]
        },
        {
          "output_type": "stream",
          "name": "stdout",
          "text": [
            "EPOCH 3 | TRAIN LOSS: 0.1307 | TRAIN ACC: 0.9875 | VAL LOSS: 0.1541 | VAL ACC: 0.9667\n"
          ]
        },
        {
          "output_type": "stream",
          "name": "stderr",
          "text": [
            "EPOCH: 4 | TRAINING: 100%|██████████| 10/10 [00:48<00:00,  4.87s/it]\n"
          ]
        },
        {
          "output_type": "stream",
          "name": "stdout",
          "text": [
            "EPOCH 4 | TRAIN LOSS: 0.0923 | TRAIN ACC: 0.9969 | VAL LOSS: 0.1460 | VAL ACC: 0.9667\n"
          ]
        }
      ]
    },
    {
      "cell_type": "code",
      "source": [
        "# Save the model\n",
        "#torch.save(model.state_dict(), \"activity_det.pt\")\n",
        "\n",
        "# Load the model\n",
        "#model = models.r2plus1d_18(pretrained=True)\n",
        "#model = ModifiedR2Plus1D(model, len(train_df[\"label\"].unique()))\n",
        "#model.load_state_dict(torch.load(\"/content/activity_det.pt\"))\n",
        "#model = model.to(device)"
      ],
      "metadata": {
        "colab": {
          "base_uri": "https://localhost:8080/"
        },
        "id": "chdLg37pbg3U",
        "outputId": "2321310b-d89c-40f9-dbc3-87aa8dfe674f"
      },
      "execution_count": 34,
      "outputs": [
        {
          "output_type": "stream",
          "name": "stderr",
          "text": [
            "/usr/local/lib/python3.11/dist-packages/torchvision/models/_utils.py:208: UserWarning: The parameter 'pretrained' is deprecated since 0.13 and may be removed in the future, please use 'weights' instead.\n",
            "  warnings.warn(\n",
            "/usr/local/lib/python3.11/dist-packages/torchvision/models/_utils.py:223: UserWarning: Arguments other than a weight enum or `None` for 'weights' are deprecated since 0.13 and may be removed in the future. The current behavior is equivalent to passing `weights=R2Plus1D_18_Weights.KINETICS400_V1`. You can also use `weights=R2Plus1D_18_Weights.DEFAULT` to get the most up-to-date weights.\n",
            "  warnings.warn(msg)\n"
          ]
        }
      ]
    },
    {
      "cell_type": "code",
      "source": [
        "# Plot the model\n",
        "import matplotlib.pyplot as plt\n",
        "\n",
        "#plt.style.use(\"seaborn-v0_8-whitegrid\")\n",
        "\n",
        "fig, axis = plt.subplots(1, 2, figsize=(14, 5))\n",
        "fig.suptitle(\"Model Training Progress\", fontsize=16, fontweight='bold')\n",
        "\n",
        "# Loss Plot\n",
        "axis[0].plot(train_loss, label=\"Training Loss\", color='tab:blue', linewidth=2)\n",
        "axis[0].plot(val_loss, label=\"Validation Loss\", color='tab:orange', linewidth=2, linestyle='--')\n",
        "axis[0].set_title(\"Loss over Epochs\", fontsize=14)\n",
        "axis[0].set_xlabel(\"Epoch\", fontsize=12)\n",
        "axis[0].set_ylabel(\"Loss\", fontsize=12)\n",
        "axis[0].legend()\n",
        "axis[0].grid(True)\n",
        "\n",
        "# Accuracy Plot\n",
        "axis[1].plot(train_acc, label=\"Training Accuracy\", color='tab:green', linewidth=2)\n",
        "axis[1].plot(val_acc, label=\"Validation Accuracy\", color='tab:red', linewidth=2, linestyle='--')\n",
        "axis[1].set_title(\"Accuracy over Epochs\", fontsize=14)\n",
        "axis[1].set_xlabel(\"Epoch\", fontsize=12)\n",
        "axis[1].set_ylabel(\"Accuracy\", fontsize=12)\n",
        "axis[1].legend()\n",
        "axis[1].grid(True)\n",
        "\n",
        "# Improve spacing and layout\n",
        "plt.tight_layout(rect=[0, 0, 1, 0.95])\n",
        "plt.show()\n"
      ],
      "metadata": {
        "colab": {
          "base_uri": "https://localhost:8080/",
          "height": 300
        },
        "id": "HlrkafiQk_oe",
        "outputId": "bf97f323-fa02-499a-ead7-d6e692b311a3"
      },
      "execution_count": 29,
      "outputs": [
        {
          "output_type": "display_data",
          "data": {
            "text/plain": [
              "<Figure size 1400x500 with 2 Axes>"
            ],
            "image/png": "[encoded data removed]"
          },
          "metadata": {}
        }
      ]
    },
    {
      "cell_type": "code",
      "source": [
        "model.eval()\n",
        "with torch.no_grad():\n",
        "    total_loss = 0.0\n",
        "    total_acc = 0.0\n",
        "    for img, label in tqdm(test_loader, desc=\"Procesing Test Loader\", total=len(test_loader)):\n",
        "        img, label = img.to(device), label.to(device)\n",
        "        prediction = model(img)\n",
        "        loss = loss_fn(prediction, label)\n",
        "\n",
        "        total_loss += loss.item()\n",
        "        pred = torch.argmax(prediction, axis=1)\n",
        "        acc = (label == pred).float().mean().item()\n",
        "        total_acc += acc\n",
        "\n",
        "    print(f\"Total ACC: {total_acc / len(test_loader)} | Total Loss: {total_loss / len(test_loader)}\")"
      ],
      "metadata": {
        "colab": {
          "base_uri": "https://localhost:8080/"
        },
        "id": "XeVmTmvNlMvS",
        "outputId": "a2ca2f5c-8abb-4774-ed8b-db4b94d665ab"
      },
      "execution_count": 35,
      "outputs": [
        {
          "output_type": "stream",
          "name": "stderr",
          "text": [
            "Procesing Test Loader: 100%|██████████| 3/3 [00:08<00:00,  2.93s/it]"
          ]
        },
        {
          "output_type": "stream",
          "name": "stdout",
          "text": [
            "Total ACC: 0.96875 | Total Loss: 0.19755090276400247\n"
          ]
        },
        {
          "output_type": "stream",
          "name": "stderr",
          "text": [
            "\n"
          ]
        }
      ]
    },
    {
      "cell_type": "code",
      "source": [
        "import os\n",
        "import random\n",
        "\n",
        "def preprocess_single_video(video_path, transform, frame_num=8, device='cuda'):\n",
        "    video, _, _ = read_video(video_path, pts_unit=\"sec\")  # (T, H, W, C)\n",
        "    video = video.permute(0, 3, 1, 2)  # (T, C, H, W)\n",
        "    frames = video[::max(1, len(video) // frame_num)][:frame_num]\n",
        "    frames = torch.stack([transform(f) for f in frames])  # (T, C, H, W)\n",
        "    frames = frames.permute(1, 0, 2, 3).unsqueeze(0).to(device)\n",
        "    return frames\n",
        "\n",
        "\n",
        "def get_random_video_path(test_root_dir):\n",
        "\n",
        "    action_dirs = [os.path.join(test_root_dir, d) for d in os.listdir(test_root_dir) if os.path.isdir(os.path.join(test_root_dir, d))]\n",
        "\n",
        "    # Choose a random action directory\n",
        "    chosen_action_dir = random.choice(action_dirs)\n",
        "\n",
        "    videos = [os.path.join(chosen_action_dir, f) for f in os.listdir(chosen_action_dir) if f.endswith(('.avi', '.mp4', '.mov'))]\n",
        "\n",
        "    chosen_video = random.choice(videos)\n",
        "\n",
        "    return chosen_video\n",
        "\n",
        "\n",
        "test_dataset_root = '/content/dataset/UCF101_subset/test'\n",
        "\n",
        "random_video_path = get_random_video_path(test_dataset_root)\n",
        "print(f\"Randomly selected video path: {random_video_path}\")\n",
        "\n",
        "def annotate_and_save_video(input_video_path, output_video_path, text, text_color=(0,255,0), font_scale=1, thickness=2):\n",
        "    # Read the video using OpenCV\n",
        "    cap = cv2.VideoCapture(input_video_path)\n",
        "    width = int(cap.get(cv2.CAP_PROP_FRAME_WIDTH))\n",
        "    height = int(cap.get(cv2.CAP_PROP_FRAME_HEIGHT))\n",
        "    fps = cap.get(cv2.CAP_PROP_FPS)\n",
        "\n",
        "    # Define the codec and create VideoWriter object\n",
        "    fourcc = cv2.VideoWriter_fourcc(*'mp4v')  # or 'XVID'\n",
        "    out = cv2.VideoWriter(output_video_path, fourcc, fps, (width, height))\n",
        "\n",
        "    font = cv2.FONT_HERSHEY_SIMPLEX\n",
        "    pos = (10, 30)  # top-left corner\n",
        "\n",
        "    while cap.isOpened():\n",
        "        ret, frame = cap.read()\n",
        "        if not ret:\n",
        "            break\n",
        "        # Put text on frame (BGR color)\n",
        "        cv2.putText(frame, text, pos, font, font_scale, text_color, thickness, cv2.LINE_AA)\n",
        "        out.write(frame)\n",
        "\n",
        "    cap.release()\n",
        "    out.release()\n",
        "    print(f\"Saved annotated video to {output_video_path}\")\n",
        "\n",
        "model.eval()\n",
        "with torch.no_grad():\n",
        "    input_tensor = preprocess_single_video(random_video_path, train_transform, frame_num=8, device=device)\n",
        "\n",
        "    outputs = model(input_tensor)\n",
        "    predicted_class = torch.argmax(outputs, dim=1).item()\n",
        "\n",
        "    label_names = train_df[\"label\"].unique().tolist()\n",
        "    predicted_label = label_names[predicted_class]\n",
        "    print(f\"Predicted activity: {predicted_label}\")\n",
        "\n",
        "    output_path = '/content/annotated_video.mp4'\n",
        "    annotate_and_save_video(random_video_path, output_path, text=predicted_label)\n"
      ],
      "metadata": {
        "colab": {
          "base_uri": "https://localhost:8080/"
        },
        "id": "JsdniylQlWmO",
        "outputId": "75cc1ad0-5a8b-49ee-d428-033119ed9d2b"
      },
      "execution_count": 42,
      "outputs": [
        {
          "output_type": "stream",
          "name": "stdout",
          "text": [
            "Randomly selected video path: /content/dataset/UCF101_subset/test/BenchPress/v_BenchPress_g25_c02.avi\n",
            "Predicted activity: BenchPress\n",
            "Saved annotated video to /content/annotated_video.mp4\n"
          ]
        }
      ]
    },
    {
      "cell_type": "code",
      "source": [],
      "metadata": {
        "id": "OxPDoGpWleWq"
      },
      "execution_count": null,
      "outputs": []
    }
  ]
}